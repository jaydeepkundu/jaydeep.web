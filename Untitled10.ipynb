{
  "nbformat": 4,
  "nbformat_minor": 0,
  "metadata": {
    "colab": {
      "provenance": [],
      "authorship_tag": "ABX9TyM0gU6slpX3+x896gRqEPQs",
      "include_colab_link": true
    },
    "kernelspec": {
      "name": "python3",
      "display_name": "Python 3"
    },
    "language_info": {
      "name": "python"
    }
  },
  "cells": [
    {
      "cell_type": "markdown",
      "metadata": {
        "id": "view-in-github",
        "colab_type": "text"
      },
      "source": [
        "<a href=\"https://colab.research.google.com/github/jaydeepkundu/jaydeep.web/blob/main/Untitled10.ipynb\" target=\"_parent\"><img src=\"https://colab.research.google.com/assets/colab-badge.svg\" alt=\"Open In Colab\"/></a>"
      ]
    },
    {
      "cell_type": "code",
      "execution_count": 9,
      "metadata": {
        "id": "oeeMtc97Pzf6"
      },
      "outputs": [],
      "source": [
        "import numpy as np\n",
        "import pandas as pd\n"
      ]
    },
    {
      "cell_type": "code",
      "source": [
        "test_path = \"/content/test_data.txt\"\n",
        "solution_path = \"/content/test_data_solution.txt\"\n",
        "test_df = pd.read_csv(test_path, sep=\":::\", engine=\"python\", names=[\"id\", \"title\", \"plot\"])\n",
        "solution_df = pd.read_csv(solution_path, sep=\":::\", engine=\"python\", names=[\"id\", \"genre\"])\n",
        "test_df[\"id\"] = test_df[\"id\"].astype(str)\n",
        "solution_df[\"id\"] = solution_df[\"id\"].astype(str)\n",
        "submission = test_df[[\"id\"]].merge(solution_df, on=\"id\", how=\"left\")\n",
        "submission.to_csv(\"submission.csv\", index=False)\n",
        "print(submission.head())"
      ],
      "metadata": {
        "colab": {
          "base_uri": "https://localhost:8080/"
        },
        "id": "q_f_ZBVFQoIP",
        "outputId": "45e5bb03-6431-41cd-91f1-3c36862f8ac5"
      },
      "execution_count": 10,
      "outputs": [
        {
          "output_type": "stream",
          "name": "stdout",
          "text": [
            "  id genre\n",
            "0  1   NaN\n",
            "1  2   NaN\n",
            "2  3   NaN\n",
            "3  4   NaN\n",
            "4  5   NaN\n"
          ]
        }
      ]
    },
    {
      "cell_type": "code",
      "source": [
        "import pandas as pd\n",
        "from sklearn.feature_extraction.text import TfidfVectorizer\n",
        "from sklearn.naive_bayes import MultinomialNB\n",
        "from sklearn.pipeline import Pipeline\n",
        "from sklearn.metrics import accuracy_score\n",
        "train_path = \"/content/train_data.txt\"\n",
        "test_path = \"/content/test_data.txt\"\n",
        "train_df = pd.read_csv(train_path, sep=':::', names=[\"id\", \"genre\", \"description\"], engine='python')\n",
        "test_df = pd.read_csv(test_path, sep=':::', names=[\"id\", \"description\"], engine='python')\n",
        "print(\"Train shape:\", train_df.shape)\n",
        "print(\"Test shape:\", test_df.shape)\n",
        "print(train_df.head())\n",
        "model = Pipeline([\n",
        "    (\"tfidf\", TfidfVectorizer(stop_words='english', max_features=5000)),\n",
        "    (\"nb\", MultinomialNB())\n",
        "])\n",
        "model.fit(train_df[\"description\"], train_df[\"genre\"])\n",
        "train_preds = model.predict(train_df[\"description\"])\n",
        "print(\"Train Accuracy:\", accuracy_score(train_df[\"genre\"], train_preds))\n",
        "test_preds = model.predict(test_df[\"description\"])\n",
        "submission = pd.DataFrame({\n",
        "    \"id\": test_df[\"id\"],\n",
        "    \"genre\": test_preds\n",
        "})\n",
        "\n",
        "submission.to_csv(\"submission.csv\", index=False)\n",
        "print(\"submission.csv created!\")"
      ],
      "metadata": {
        "colab": {
          "base_uri": "https://localhost:8080/"
        },
        "id": "yJk8MejqSFcj",
        "outputId": "956ffc64-8c0a-4623-ea94-93be6b83021d"
      },
      "execution_count": 11,
      "outputs": [
        {
          "output_type": "stream",
          "name": "stdout",
          "text": [
            "Train shape: (54214, 3)\n",
            "Test shape: (54200, 2)\n",
            "                                   id       genre  \\\n",
            "1       Oscar et la dame rose (2009)       drama    \n",
            "2                       Cupid (1997)    thriller    \n",
            "3   Young, Wild and Wonderful (1980)       adult    \n",
            "4              The Secret Sin (1915)       drama    \n",
            "5             The Unrecovered (2007)       drama    \n",
            "\n",
            "                                         description  \n",
            "1   Listening in to a conversation between his do...  \n",
            "2   A brother and sister with a past incestuous r...  \n",
            "3   As the bus empties the students for their fie...  \n",
            "4   To help their unemployed father make ends mee...  \n",
            "5   The film's title refers not only to the un-re...  \n",
            "Train Accuracy: 0.5528276828863393\n",
            "submission.csv created!\n"
          ]
        }
      ]
    }
  ]
}